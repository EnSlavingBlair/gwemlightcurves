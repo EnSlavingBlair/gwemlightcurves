{
 "cells": [
  {
   "cell_type": "code",
   "execution_count": 40,
   "metadata": {
    "collapsed": true,
    "pycharm": {
     "name": "#%%\n"
    }
   },
   "outputs": [],
   "source": [
    "from jupyterlab_h5web import H5Web\n",
    "import h5py\n",
    "import numpy as np"
   ]
  },
  {
   "cell_type": "code",
   "execution_count": 11,
   "outputs": [
    {
     "data": {
      "application/x-hdf5": "/home/tsb/PycharmProjects/gwemlightcurves/kN-light-curves/GW170817_GWTC-1.hdf5",
      "text/plain": "<jupyterlab_h5web.widget.H5Web object>"
     },
     "execution_count": 11,
     "metadata": {},
     "output_type": "execute_result"
    }
   ],
   "source": [
    "H5Web('GW170817_GWTC-1.hdf5')"
   ],
   "metadata": {
    "collapsed": false,
    "pycharm": {
     "name": "#%%\n"
    }
   }
  },
  {
   "cell_type": "code",
   "execution_count": 14,
   "outputs": [],
   "source": [
    "data_filename = \"GW170817_GWTC-1.hdf5\"\n",
    "samples_out = h5py.File(data_filename, 'r')"
   ],
   "metadata": {
    "collapsed": false,
    "pycharm": {
     "name": "#%%\n"
    }
   }
  },
  {
   "cell_type": "code",
   "execution_count": 27,
   "outputs": [
    {
     "name": "stdout",
     "output_type": "stream",
     "text": [
      "['IMRPhenomPv2NRT_highSpin_posterior', 'IMRPhenomPv2NRT_highSpin_prior', 'IMRPhenomPv2NRT_lowSpin_posterior', 'IMRPhenomPv2NRT_lowSpin_prior']\n"
     ]
    }
   ],
   "source": [
    "print(list(samples_out.keys()))"
   ],
   "metadata": {
    "collapsed": false,
    "pycharm": {
     "name": "#%%\n"
    }
   }
  },
  {
   "cell_type": "code",
   "execution_count": 31,
   "outputs": [
    {
     "data": {
      "text/plain": "(-0.92647724, 44.32694209, 3.44616, -0.408084, 1.40732551, 1.34475585, 1168.73116141, 169.25608652, 0.03894468, 0.00811098, -0.23333412, 0.99863272)"
     },
     "execution_count": 31,
     "metadata": {},
     "output_type": "execute_result"
    }
   ],
   "source": [
    "samples_out['IMRPhenomPv2NRT_lowSpin_posterior'][0]"
   ],
   "metadata": {
    "collapsed": false,
    "pycharm": {
     "name": "#%%\n"
    }
   }
  },
  {
   "cell_type": "code",
   "execution_count": 36,
   "outputs": [],
   "source": [
    "data_sets = list(samples_out.keys())\n",
    "set_lengths = [len(samples_out[x]) for x in data_sets]"
   ],
   "metadata": {
    "collapsed": false,
    "pycharm": {
     "name": "#%%\n"
    }
   }
  },
  {
   "cell_type": "code",
   "execution_count": 39,
   "outputs": [
    {
     "name": "stdout",
     "output_type": "stream",
     "text": [
      "['IMRPhenomPv2NRT_highSpin_posterior', 'IMRPhenomPv2NRT_highSpin_prior', 'IMRPhenomPv2NRT_lowSpin_posterior', 'IMRPhenomPv2NRT_lowSpin_prior']\n",
      "[4041, 6944, 8078, 7109]\n"
     ]
    }
   ],
   "source": [
    "print(data_sets)\n",
    "print(set_lengths)"
   ],
   "metadata": {
    "collapsed": false,
    "pycharm": {
     "name": "#%%\n"
    }
   }
  },
  {
   "cell_type": "code",
   "execution_count": 79,
   "outputs": [
    {
     "ename": "IndexError",
     "evalue": "Index (4041) out of range for (0-4040)",
     "output_type": "error",
     "traceback": [
      "\u001B[0;31m---------------------------------------------------------------------------\u001B[0m",
      "\u001B[0;31mIndexError\u001B[0m                                Traceback (most recent call last)",
      "Cell \u001B[0;32mIn [79], line 8\u001B[0m\n\u001B[1;32m      6\u001B[0m \u001B[38;5;28;01mfor\u001B[39;00m len_idx \u001B[38;5;129;01min\u001B[39;00m \u001B[38;5;28mrange\u001B[39m(length): \u001B[38;5;66;03m# len_idx range: 0:4041, 0:6944, 0:8078, 0:7109\u001B[39;00m\n\u001B[1;32m      7\u001B[0m     \u001B[38;5;28;01mfor\u001B[39;00m set_idx \u001B[38;5;129;01min\u001B[39;00m \u001B[38;5;28mrange\u001B[39m(\u001B[38;5;241m12\u001B[39m): \u001B[38;5;66;03m# set_idx range 0:12\u001B[39;00m\n\u001B[0;32m----> 8\u001B[0m         indiv_data[set_idx][len_idx] \u001B[38;5;241m=\u001B[39m \u001B[43msamples_out\u001B[49m\u001B[43m[\u001B[49m\u001B[43mdata_sets\u001B[49m\u001B[43m[\u001B[49m\u001B[43mdata_idx\u001B[49m\u001B[43m]\u001B[49m\u001B[43m]\u001B[49m\u001B[43m[\u001B[49m\u001B[43mlen_idx\u001B[49m\u001B[43m]\u001B[49m[set_idx]\n",
      "File \u001B[0;32mh5py/_objects.pyx:54\u001B[0m, in \u001B[0;36mh5py._objects.with_phil.wrapper\u001B[0;34m()\u001B[0m\n",
      "File \u001B[0;32mh5py/_objects.pyx:55\u001B[0m, in \u001B[0;36mh5py._objects.with_phil.wrapper\u001B[0;34m()\u001B[0m\n",
      "File \u001B[0;32m~/PycharmProjects/gwemlightcurves/venv/lib/python3.8/site-packages/h5py/_hl/dataset.py:814\u001B[0m, in \u001B[0;36mDataset.__getitem__\u001B[0;34m(self, args, new_dtype)\u001B[0m\n\u001B[1;32m    809\u001B[0m     \u001B[38;5;28;01mreturn\u001B[39;00m arr\n\u001B[1;32m    811\u001B[0m \u001B[38;5;66;03m# === Everything else ===================\u001B[39;00m\n\u001B[1;32m    812\u001B[0m \n\u001B[1;32m    813\u001B[0m \u001B[38;5;66;03m# Perform the dataspace selection.\u001B[39;00m\n\u001B[0;32m--> 814\u001B[0m selection \u001B[38;5;241m=\u001B[39m \u001B[43msel\u001B[49m\u001B[38;5;241;43m.\u001B[39;49m\u001B[43mselect\u001B[49m\u001B[43m(\u001B[49m\u001B[38;5;28;43mself\u001B[39;49m\u001B[38;5;241;43m.\u001B[39;49m\u001B[43mshape\u001B[49m\u001B[43m,\u001B[49m\u001B[43m \u001B[49m\u001B[43margs\u001B[49m\u001B[43m,\u001B[49m\u001B[43m \u001B[49m\u001B[43mdataset\u001B[49m\u001B[38;5;241;43m=\u001B[39;49m\u001B[38;5;28;43mself\u001B[39;49m\u001B[43m)\u001B[49m\n\u001B[1;32m    816\u001B[0m \u001B[38;5;28;01mif\u001B[39;00m selection\u001B[38;5;241m.\u001B[39mnselect \u001B[38;5;241m==\u001B[39m \u001B[38;5;241m0\u001B[39m:\n\u001B[1;32m    817\u001B[0m     \u001B[38;5;28;01mreturn\u001B[39;00m numpy\u001B[38;5;241m.\u001B[39mzeros(selection\u001B[38;5;241m.\u001B[39marray_shape, dtype\u001B[38;5;241m=\u001B[39mnew_dtype)\n",
      "File \u001B[0;32m~/PycharmProjects/gwemlightcurves/venv/lib/python3.8/site-packages/h5py/_hl/selections.py:82\u001B[0m, in \u001B[0;36mselect\u001B[0;34m(shape, args, dataset)\u001B[0m\n\u001B[1;32m     79\u001B[0m     space \u001B[38;5;241m=\u001B[39m h5s\u001B[38;5;241m.\u001B[39mcreate_simple(shape)\n\u001B[1;32m     80\u001B[0m     selector \u001B[38;5;241m=\u001B[39m _selector\u001B[38;5;241m.\u001B[39mSelector(space)\n\u001B[0;32m---> 82\u001B[0m \u001B[38;5;28;01mreturn\u001B[39;00m \u001B[43mselector\u001B[49m\u001B[38;5;241;43m.\u001B[39;49m\u001B[43mmake_selection\u001B[49m\u001B[43m(\u001B[49m\u001B[43margs\u001B[49m\u001B[43m)\u001B[49m\n",
      "File \u001B[0;32mh5py/_selector.pyx:276\u001B[0m, in \u001B[0;36mh5py._selector.Selector.make_selection\u001B[0;34m()\u001B[0m\n",
      "File \u001B[0;32mh5py/_selector.pyx:151\u001B[0m, in \u001B[0;36mh5py._selector.Selector.apply_args\u001B[0;34m()\u001B[0m\n",
      "\u001B[0;31mIndexError\u001B[0m: Index (4041) out of range for (0-4040)"
     ]
    }
   ],
   "source": [
    "# wanting to plot the data\n",
    "all_together = []\n",
    "for data_idx in range(len(data_sets)): # data_idx range 0:4\n",
    "    for length in set_lengths: # length: 4041, 6944, 8078, 7109\n",
    "        indiv_data = np.zeros((12,length))\n",
    "        for len_idx in range(length): # len_idx range: 0:4041, 0:6944, 0:8078, 0:7109\n",
    "            for set_idx in range(12): # set_idx range 0:12\n",
    "                indiv_data[set_idx][len_idx] = samples_out[data_sets[data_idx]][len_idx][set_idx]"
   ],
   "metadata": {
    "collapsed": false,
    "pycharm": {
     "name": "#%%\n"
    }
   }
  },
  {
   "cell_type": "code",
   "execution_count": 78,
   "outputs": [
    {
     "data": {
      "text/plain": "0.048234613776707416"
     },
     "execution_count": 78,
     "metadata": {},
     "output_type": "execute_result"
    }
   ],
   "source": [
    "samples_out[data_sets[3]][7108][11]"
   ],
   "metadata": {
    "collapsed": false,
    "pycharm": {
     "name": "#%%\n"
    }
   }
  },
  {
   "cell_type": "code",
   "execution_count": 66,
   "outputs": [
    {
     "data": {
      "text/plain": "[4041, 6944, 8078, 7109]"
     },
     "execution_count": 66,
     "metadata": {},
     "output_type": "execute_result"
    }
   ],
   "source": [
    "set_lengths"
   ],
   "metadata": {
    "collapsed": false,
    "pycharm": {
     "name": "#%%\n"
    }
   }
  },
  {
   "cell_type": "code",
   "execution_count": null,
   "outputs": [],
   "source": [],
   "metadata": {
    "collapsed": false,
    "pycharm": {
     "name": "#%%\n"
    }
   }
  }
 ],
 "metadata": {
  "kernelspec": {
   "display_name": "Python 3",
   "language": "python",
   "name": "python3"
  },
  "language_info": {
   "codemirror_mode": {
    "name": "ipython",
    "version": 2
   },
   "file_extension": ".py",
   "mimetype": "text/x-python",
   "name": "python",
   "nbconvert_exporter": "python",
   "pygments_lexer": "ipython2",
   "version": "2.7.6"
  }
 },
 "nbformat": 4,
 "nbformat_minor": 0
}