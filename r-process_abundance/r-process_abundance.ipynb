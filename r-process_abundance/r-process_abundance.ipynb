{
 "cells": [
  {
   "cell_type": "markdown",
   "metadata": {},
   "source": [
    "# Calculation of local r-process matter due to BNS mergers"
   ]
  },
  {
   "cell_type": "markdown",
   "metadata": {},
   "source": [
    "The first detection of a BNS merger by LIGO presents the opportunity to compare the estimated BNS merger rates to the local r-process element abundances and attempt to answer some key questions:\n",
    "* What fraction of r-process elements are produced by BNS mergers?\n",
    "* How much mass is ejected from BNS mergers?\n",
    "* Can we put a tighter constraint on the BNS rate by combining the LIGO observed rate with r-process abundances?\n",
    "\n",
    "While EM observations will give the most complete picture, estimates of the ejected mass can be made with just the NS masses.  Roughly speaking, the EM observations will just give a better estimate of the ejected mass (although they could help constrain the rate as well)\n",
    "\n",
    "As a first step, we can estimate the r-process material density due to BNS mergers by simply counting up all the mass ejected from BNS's over the lifetime of the universe:\n",
    "\n",
    "$$\\rho_{\\rm r-process} = \\int_0^{t_{\\rm H}} R(t)M_{\\rm ej} {\\rm d}t = \\int_\\infty^0 {\\rm d}z \\frac{{\\rm d}t}{{\\rm d}z}R(z)M_{\\rm ej} =  t_{\\rm H}\\int_0^\\infty {\\rm d}z \\frac{R(z)M_{\\rm ej}}{(1+z)E(z)}$$\n",
    "\n",
    "$R(z)$ is the rate density of BNS mergers, $M_{\\rm ej}$ is the mass ejected from a BNS merger, and $t_{\\rm H}$ is the Hubble time.\n",
    "\n",
    "To find $R(z)$, we need a few quantities:\n",
    "* The distribution of delay times $t_{\\rm d}$ after birth of a binary neutron star system\n",
    "* Fraction $F_{\\rm BNS}$ of systems that result in BNS systems \n",
    "* The distribution of formation times of BNS systems from ZAMS\n",
    "* Cosmological star formation rate \n",
    "* The local rate $R(0)$, which we get from the LIGO detection\n",
    "\n",
    "Unfortunately, getting $R(z)$ will require a good population synthesis model, which we don't exactly have.  What we can do instead for simplicity is calculate the local r-process material production, which is naively given by\n",
    "\n",
    "$$ \\Gamma [M_\\odot {\\rm Gpc}^{-3} {\\rm yr}^{-1}] = R(0)M_{\\rm ej}$$\n",
    "\n",
    "and assume that it is constant over some time $\\Delta t$, so that \n",
    "\n",
    "$$\\rho_{\\rm r-process} = R(0)M_{\\rm ej}\\Delta t$$\n",
    "\n",
    "To find $M_{\\rm ej}$, we need some model that connects the values from the PE posteriors to $M_{\\rm ej}$.  \n",
    "We can use the models from [Dietrich et al.](https://journals.aps.org/prd/pdf/10.1103/PhysRevD.95.024029) and use the relations from Figure 6.  For the BNS parameters, we'll just use the [initial PE results](https://ldas-jobs.ligo.caltech.edu/~carl-johan.haster/O2/G298048/inital_HLgatedV_flow24/lalinferencemcmc/IMRPhenomPv2pseudoFourPN/128s/1187008882.45-1/V1H1L1_PRELPREL_v2/posplots.html)\n",
    "\n",
    "The relevant PE quantities are:\n",
    "* $m_1 = 1.84 M_\\odot$, maP\n",
    "* $m_2 = 1.02M_\\odot$, maP\n",
    "* $M = m_1 + m_2 = 2.86M_\\odot$\n",
    "* $q = 0.552$, maP\n",
    "\n",
    "Eyeballing Figure 6 of Dietrich et al., the ejected mass can be estimated as $\\sim 0.04 M_\\odot$.\n",
    "\n",
    "The BNS merger rate densities calculated by Will Farr ([here](https://git.ligo.org/RatesAndPopulations/O2Populations/blob/master/bns/GW170817Rate.ipynb)) are between $600 {\\rm Gpc}^{-3} {\\rm yr}^{-1}$, and $8060 {\\rm Gpc}^{-3} {\\rm yr}^{-1}$.  Combining this with the ejecta masses from Dietrich et al. we get:"
   ]
  },
  {
   "cell_type": "code",
   "execution_count": 14,
   "metadata": {
    "collapsed": false
   },
   "outputs": [
    {
     "name": "stdout",
     "output_type": "stream",
     "text": [
      "The low r-process material production rate is 240.0 M_solar/(Gpc^3 yr) or 0.24 M_solar/(Mpc^3 Myr)\n",
      "The high r-process material production rate is 3224.0 M_solar/(Gpc^3 yr) or 3.22 M_solar/(Mpc^3 Myr)\n"
     ]
    }
   ],
   "source": [
    "R_low = 600 #Gpc^-3 yr^-1\n",
    "R_high = 8060 #Gpc^-3 yr^-1\n",
    "M_ej = 0.4 # M_o\n",
    "Gamma_low = R_low*M_ej\n",
    "Gamma_high = R_high*M_ej\n",
    "print('The low r-process material production rate is {:.1f} M_solar/(Gpc^3 yr) or {:.2f} M_solar/(Mpc^3 Myr)'.format(Gamma_low,Gamma_low/1e3))\n",
    "print('The high r-process material production rate is {:.1f} M_solar/(Gpc^3 yr) or {:.2f} M_solar/(Mpc^3 Myr)'.format(Gamma_high,Gamma_high/1e3))"
   ]
  },
  {
   "cell_type": "markdown",
   "metadata": {},
   "source": [
    "We'll assume that the BNS merger rate has been constant for the last 13 billion years (this is a pretty bad assumption, but just for this exercise).  Thus we get that the total r-process material mass in the galaxy is around...."
   ]
  },
  {
   "cell_type": "code",
   "execution_count": 23,
   "metadata": {
    "collapsed": false
   },
   "outputs": [
    {
     "name": "stdout",
     "output_type": "stream",
     "text": [
      "low r-process density is 3.120000e+03 M_solar/Mpc^3\n",
      "high r-process density is 4.191200e+04 M_solar/Mpc^3\n"
     ]
    }
   ],
   "source": [
    "rho_low = (Gamma_low/1e3)*13e3 # 13e3 Myr\n",
    "rho_high = (Gamma_high/1e3)*13e3 # 13e3 Myr\n",
    "print('low r-process density is {:e} M_solar/Mpc^3'.format(rho_low))\n",
    "print('high r-process density is {:e} M_solar/Mpc^3'.format(rho_high))"
   ]
  },
  {
   "cell_type": "markdown",
   "metadata": {},
   "source": [
    "For comparison, we can look at the total r-process mass in the galaxy of $\\sim 10^4 M_\\odot$, taken from a [paper by Qian](https://arxiv.org/pdf/astro-ph/0003242.pdf).  If we assume that there is one galaxy per cubic megaparsec, this estimate is in the right ballpark! Obviously there are a *ton* of effects that haven't been taken into account.  I name some of the obvious ones here:\n",
    "* The distribution of BNS merger masses\n",
    "* The cosmological BNS rate density\n",
    "* The full PE posteriors\n",
    "* The uncertainties in ejected mass"
   ]
  },
  {
   "cell_type": "code",
   "execution_count": null,
   "metadata": {
    "collapsed": true
   },
   "outputs": [],
   "source": []
  }
 ],
 "metadata": {
  "anaconda-cloud": {},
  "kernelspec": {
   "display_name": "Python 2",
   "language": "python",
   "name": "python2"
  },
  "language_info": {
   "codemirror_mode": {
    "name": "ipython",
    "version": 2
   },
   "file_extension": ".py",
   "mimetype": "text/x-python",
   "name": "python",
   "nbconvert_exporter": "python",
   "pygments_lexer": "ipython2",
   "version": "2.7.13"
  }
 },
 "nbformat": 4,
 "nbformat_minor": 2
}
